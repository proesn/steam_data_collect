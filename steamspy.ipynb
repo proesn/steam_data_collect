{
 "cells": [
  {
   "cell_type": "code",
   "execution_count": null,
   "metadata": {},
   "outputs": [],
   "source": [
    "###Steam spy for college writing\n",
    "\n",
    "import requests\n",
    "import pandas as pd\n",
    "import random\n",
    "# from selenium import webdriver\n",
    "# from selenium.webdriver.common.by import By\n",
    "# from selenium.webdriver.support.ui import WebDriverWait\n",
    "# from selenium.webdriver.support import expected_conditions as EC\n",
    "from bs4 import BeautifulSoup\n",
    "\n",
    "# Define the base URL for the Steam Spy API\n",
    "base_url = \"https://steamspy.com/api.php\"\n"
   ]
  },
  {
   "cell_type": "code",
   "execution_count": 3,
   "metadata": {},
   "outputs": [],
   "source": [
    "def fetch_indie_games():\n",
    "    response = requests.get(f\"{base_url}?request=genre&genre=Indie\")\n",
    "    if response.status_code == 200:\n",
    "        data = response.json()\n",
    "        return data\n",
    "    else:\n",
    "        print(f\"Error: Unable to fetch data (status code: {response.status_code})\")\n",
    "        return None\n",
    "\n",
    "def fetch_app_details(appid):\n",
    "    response = requests.get(f\"{base_url}?request=appdetails&appid={appid}\")\n",
    "    if response.status_code == 200:\n",
    "        return response.json()\n",
    "    else:\n",
    "        print(f\"Error: Unable to fetch details for appid {appid} (status code: {response.status_code})\")\n",
    "        return None"
   ]
  },
  {
   "cell_type": "code",
   "execution_count": 4,
   "metadata": {},
   "outputs": [],
   "source": [
    "# Fetch the indie games data\n",
    "indie_games = fetch_indie_games()"
   ]
  },
  {
   "cell_type": "code",
   "execution_count": 5,
   "metadata": {},
   "outputs": [
    {
     "name": "stdout",
     "output_type": "stream",
     "text": [
      "Summary Statistics for Indie Games:\n",
      "Total number of games: 55653\n",
      "Average Price (USD): 6.94\n",
      "Average Owners: 78697\n",
      "Average Playtime (Forever): 1.89 hours\n",
      "Average Playtime (Last 2 Weeks): 0.09 hours\n"
     ]
    }
   ],
   "source": [
    "# Check if data was fetched successfully\n",
    "if indie_games:\n",
    "    # Transform the data into a DataFrame\n",
    "    indie_df = pd.DataFrame.from_dict(indie_games, orient='index')\n",
    "    # indie_df.summarize()\n",
    "    # Clean and process the data\n",
    "    indie_df['owners'] = (\n",
    "    indie_df['owners']\n",
    "    .astype(str)  # Ensure the data is a string\n",
    "    .str.replace(',', '')  # Remove commas\n",
    "    .str.split(' .. ')  # Split the range\n",
    "    .apply(lambda x: (int(x[0]) + int(x[1])) // 2 if isinstance(x, list) and len(x) == 2 else None)  # Calculate the average\n",
    "    )\n",
    "    indie_df['price_usd'] = indie_df['price'].astype(int)  / 100\n",
    "    indie_df['average_forever_hours'] = indie_df['average_forever'] / 60\n",
    "    indie_df['average_2weeks_hours'] = indie_df['average_2weeks'] / 60\n",
    "   \n",
    "    # Display summary statistics\n",
    "    print(\"Summary Statistics for Indie Games:\")\n",
    "    print(f\"Total number of games: {len(indie_df)}\")\n",
    "    print(f\"Average Price (USD): {indie_df['price_usd'].mean():.2f}\")\n",
    "    print(f\"Average Owners: {indie_df['owners'].mean():.0f}\")\n",
    "    print(f\"Average Playtime (Forever): {indie_df['average_forever_hours'].mean():.2f} hours\")\n",
    "    print(f\"Average Playtime (Last 2 Weeks): {indie_df['average_2weeks_hours'].mean():.2f} hours\")\n",
    "else:\n",
    "    print(\"No data available.\")"
   ]
  },
  {
   "cell_type": "code",
   "execution_count": 5,
   "metadata": {},
   "outputs": [
    {
     "name": "stdout",
     "output_type": "stream",
     "text": [
      "Data saved to 'indie_games_summary.csv'.\n"
     ]
    }
   ],
   "source": [
    "if indie_games:\n",
    "    indie_df.to_csv(\"./indie_games_summary.csv\", index=False)\n",
    "    print(\"Data saved to 'indie_games_summary.csv'.\")"
   ]
  },
  {
   "cell_type": "code",
   "execution_count": 6,
   "metadata": {},
   "outputs": [
    {
     "name": "stdout",
     "output_type": "stream",
     "text": [
      "Fetching details for AppID: 1508060\n",
      "App Details:\n",
      "appid: 1508060\n",
      "name: Snowy Love\n",
      "developer: Blessing Company\n",
      "publisher: Blessing Company\n",
      "score_rank: \n",
      "positive: 4\n",
      "negative: 5\n",
      "userscore: 0\n",
      "owners: 0 .. 20,000\n",
      "average_forever: 0\n",
      "average_2weeks: 0\n",
      "median_forever: 0\n",
      "median_2weeks: 0\n",
      "price: 199\n",
      "initialprice: 199\n",
      "discount: 0\n",
      "ccu: 0\n",
      "languages: English\n",
      "genre: Adventure, Casual, Indie, Strategy\n",
      "tags: {'Casual': 32, 'Indie': 31, 'Adventure': 30, 'Strategy': 21, 'Puzzle': 12, 'Sexual Content': 12, 'Relaxing': 11, '2D': 11, 'Anime': 11, 'Minimalist': 11, 'Atmospheric': 11, 'Singleplayer': 11, 'Colorful': 11, 'Cute': 11, 'LGBTQ+': 10, 'Clicker': 10}\n"
     ]
    }
   ],
   "source": [
    "if not indie_df.empty:\n",
    "    # Pick a random appid from the existing data\n",
    "    random_appid = random.choice(indie_df.index)\n",
    "    print(f\"Fetching details for AppID: {random_appid}\")\n",
    "    \n",
    "    # Fetch the detailed data\n",
    "    app_details = fetch_app_details(random_appid)\n",
    "    \n",
    "    # Display the details\n",
    "    if app_details:\n",
    "        print(\"App Details:\")\n",
    "        for key, value in app_details.items():\n",
    "            print(f\"{key}: {value}\")\n",
    "else:\n",
    "    print(\"The DataFrame is empty. Cannot pick a random app.\")"
   ]
  },
  {
   "cell_type": "code",
   "execution_count": null,
   "metadata": {},
   "outputs": [],
   "source": [
    "# driver_path = \"/chromedriver-win64/chromedriver-win64/chromedriver.exe\"  # Replace with your ChromeDriver path\n",
    "url = \"https://www.steamspy.com/genre/Indie\"  # Replace with the actual page URL\n"
   ]
  },
  {
   "cell_type": "markdown",
   "metadata": {},
   "source": [
    "#Use BS4"
   ]
  },
  {
   "cell_type": "code",
   "execution_count": 8,
   "metadata": {},
   "outputs": [
    {
     "name": "stdout",
     "output_type": "stream",
     "text": [
      "Data scraped successfully!\n",
      "Data saved to 'steamspy_table.csv'.\n"
     ]
    }
   ],
   "source": [
    "response = requests.get(url)\n",
    "if response.status_code == 200:\n",
    "    soup = BeautifulSoup(response.content, 'html.parser')\n",
    "    \n",
    "    # Locate the table (Inspect the page for the exact class or ID)\n",
    "    table = soup.find('table')  # Add class or ID if needed, e.g., find('table', {'class': 'table-class'})\n",
    "    \n",
    "    if table:\n",
    "        # Extract table headers\n",
    "        headers = [header.text.strip() for header in table.find_all('th')]\n",
    "        \n",
    "        # Extract table rows\n",
    "        rows = []\n",
    "        for row in table.find_all('tr')[1:]:  # Skip the header row\n",
    "            cells = row.find_all('td')\n",
    "            rows.append([cell.text.strip() for cell in cells])\n",
    "        \n",
    "        # Create a pandas DataFrame\n",
    "        data = pd.DataFrame(rows, columns=headers)\n",
    "        print(\"Data scraped successfully!\")\n",
    "        \n",
    "        # Save to CSV\n",
    "        data.to_csv(\"steamspy_table.csv\", index=False)\n",
    "        print(\"Data saved to 'steamspy_table.csv'.\")\n",
    "    else:\n",
    "        print(\"Table not found on the page.\")\n",
    "else:\n",
    "    print(f\"Failed to fetch the webpage (status code: {response.status_code}).\")"
   ]
  },
  {
   "cell_type": "code",
   "execution_count": null,
   "metadata": {},
   "outputs": [],
   "source": []
  }
 ],
 "metadata": {
  "kernelspec": {
   "display_name": "base",
   "language": "python",
   "name": "python3"
  },
  "language_info": {
   "codemirror_mode": {
    "name": "ipython",
    "version": 3
   },
   "file_extension": ".py",
   "mimetype": "text/x-python",
   "name": "python",
   "nbconvert_exporter": "python",
   "pygments_lexer": "ipython3",
   "version": "3.11.5"
  }
 },
 "nbformat": 4,
 "nbformat_minor": 2
}
